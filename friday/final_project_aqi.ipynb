{
  "nbformat": 4,
  "nbformat_minor": 0,
  "metadata": {
    "colab": {
      "provenance": []
    },
    "kernelspec": {
      "name": "python3",
      "display_name": "Python 3"
    },
    "language_info": {
      "name": "python"
    }
  },
  "cells": [
    {
      "cell_type": "code",
      "execution_count": null,
      "metadata": {
        "id": "BnktmQ8yzn3C"
      },
      "outputs": [],
      "source": [
        "import pandas as pd # Import Module\n",
        "import numpy as np\n",
        "\n",
        "DayInput = input(\"Please enter Date for which you would like to access. YYYYMMDD: \")\n",
        "print(\"Retreving data for\" , DayInput) #Data Callback\n",
        "\n",
        "name_of_file = 'clean_' + DayInput + '.csv' #Combinging User entry with file name\n",
        "\n",
        "AQI_df = pd.read_csv(name_of_file , index_col=None)\n",
        "AQI_df"
      ]
    },
    {
      "cell_type": "code",
      "source": [
        "#Average of PM2.5 and PM10\n",
        "VPM25 = AQI_df['PM2.5'].mean()\n",
        "VPM10 = AQI_df['PM10'].mean()\n",
        "\n",
        "print(\"The avergae of PM2.5 is\" , VPM25 , \"and the average of PM10 is\" , VPM10) #printing out the calculation"
      ],
      "metadata": {
        "id": "EfYJQgrO_9ER"
      },
      "execution_count": null,
      "outputs": []
    },
    {
      "cell_type": "code",
      "source": [
        "#Calculate AQI\n",
        "\n",
        "#AQI for PM10\n",
        "if VPM10 < 54:\n",
        "  BP_LO = 0\n",
        "  BP_HI = 54\n",
        "  I_LO = 0\n",
        "  I_HI = 50\n",
        "  Cp = VPM10\n",
        "\n",
        "elif VPM10 < 154:\n",
        "  BP_LO = 55\n",
        "  BP_HI = 154\n",
        "  I_LO = 51\n",
        "  I_HI = 100\n",
        "  Cp = VPM10\n",
        "\n",
        "elif VPM10 < 254:\n",
        "  BP_LO = 155\n",
        "  BP_HI = 254\n",
        "  I_LO = 101\n",
        "  I_HI = 150\n",
        "  Cp = VPM10\n",
        "\n",
        "elif VPM10 < 354:\n",
        "  BP_LO = 255\n",
        "  BP_HI = 354\n",
        "  I_LO = 151\n",
        "  I_HI = 200\n",
        "  Cp = VPM10\n",
        "\n",
        "elif VPM10 < 424:\n",
        "  BP_LO = 355\n",
        "  BP_HI = 424\n",
        "  I_LO = 201\n",
        "  I_HI = 300\n",
        "  Cp = VPM10\n",
        "\n",
        "elif VPM10 < 504:\n",
        "  BP_LO = 425\n",
        "  BP_HI = 504\n",
        "  I_LO = 301\n",
        "  I_HI = 400\n",
        "  Cp = VPM10\n",
        "\n",
        "elif VPM10 < 604:\n",
        "  BP_LO = 505\n",
        "  BP_HI = 604\n",
        "  I_LO = 401\n",
        "  I_HI = 500\n",
        "  Cp = VPM10\n",
        "\n",
        "#AQI for PM2.5\n",
        "if VPM25 < 12.0:\n",
        "  SBP_LO = 0.0\n",
        "  SBP_HI = 12.0\n",
        "  SI_LO = 0\n",
        "  SI_HI = 50\n",
        "  SCp = VPM25\n",
        "\n",
        "elif VPM25 < 35.4:\n",
        "  SBP_LO = 12.1\n",
        "  SBP_HI = 35.4\n",
        "  SI_LO = 51\n",
        "  SI_HI = 100\n",
        "  SCp = VPM25\n",
        "\n",
        "elif VPM25 <55.4:\n",
        "  SBP_LO = 35.5\n",
        "  SBP_HI = 55.4\n",
        "  SI_LO = 101\n",
        "  SI_HI = 150\n",
        "  SCp = VPM25\n",
        "\n",
        "elif VPM25 < 150.4:\n",
        "  SBP_LO = 55.5\n",
        "  SBP_HI = 150.4\n",
        "  SI_LO = 151\n",
        "  SI_HI = 200\n",
        "  SCp = VPM25\n",
        "\n",
        "elif VPM25 < 250.4:\n",
        "  SBP_LO = 150.5\n",
        "  SBP_HI = 250.4\n",
        "  SI_LO = 201\n",
        "  SI_HI = 300\n",
        "  SCp = VPM25\n",
        "\n",
        "elif VPM25 < 350.4:\n",
        "  SBP_LO = 250.5\n",
        "  SBP_HI = 350.4\n",
        "  SI_LO = 301\n",
        "  SI_HI = 400\n",
        "  SCp = VPM25\n",
        "\n",
        "elif VPM25 < 500.4:\n",
        "  SBP_LO = 350.5\n",
        "  SBP_HI = 500.4\n",
        "  SI_LO = 401\n",
        "  SI_HI = 500\n",
        "  SCp = VPM25\n",
        "\n",
        "I_p = ((I_HI - I_LO)/(BP_HI - BP_LO)) * (Cp - BP_LO) + I_LO #PM10\n",
        "SI_p = ((SI_HI - SI_LO)/(SBP_HI - SBP_LO)) * (SCp - SBP_LO) + SI_LO #PM2.5\n",
        "print(\"AQI for PM10 is\" , I_p , \"and the AQI for PM2.5 is\" , SI_p)"
      ],
      "metadata": {
        "id": "uHxren6qACCG"
      },
      "execution_count": null,
      "outputs": []
    },
    {
      "cell_type": "code",
      "source": [
        "# Plotting\n",
        "import matplotlib.pyplot as plt\n",
        "x = AQI_df['hour'] # Using the hour colum as the X\n",
        "y = AQI_df['PM2.5'] # Using the PM2.5 as the Y\n",
        "plt.plot(x, y)"
      ],
      "metadata": {
        "id": "IgWQIomN9Hjy"
      },
      "execution_count": null,
      "outputs": []
    }
  ]
}